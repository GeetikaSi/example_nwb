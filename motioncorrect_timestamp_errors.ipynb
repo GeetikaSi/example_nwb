{
 "cells": [
  {
   "cell_type": "code",
   "execution_count": 1,
   "metadata": {},
   "outputs": [],
   "source": [
    "import datajoint as dj\n",
    "import motioncorrect_timestamp_errors\n",
    "# from imaging import analysis, preprocess, reference, equipment, tracking, analysis_param, sessions, animal, file\n",
    "from pynwb import NWBHDF5IO\n",
    "import matplotlib.pyplot as plt\n",
    "import datetime"
   ]
  },
  {
   "cell_type": "code",
   "execution_count": 2,
   "metadata": {},
   "outputs": [],
   "source": [
    "session_keys = [{'session_name': 'abc123d4fcbb',\n",
    "                'recording_order': 0,\n",
    "                'recording_name': 'rrrrd24',\n",
    "                'animal_id': 'abc123',\n",
    "                'datasource_id': 0,\n",
    "                'animal_name': '123',\n",
    "                'timestamp': datetime.datetime(2022, 3, 1, 5, 30, 10),\n",
    "                'combined': 'yes',\n",
    "                'timeseries_name': '123_20220301_ML-100_DJ01_3Openfiled',\n",
    "                'equipment_type': '2Pminiscope_A',\n",
    "                'username': 'testuser'}]\n",
    "# session_key = session_keys[0]"
   ]
  },
  {
   "cell_type": "code",
   "execution_count": 3,
   "metadata": {},
   "outputs": [
    {
     "name": "stdout",
     "output_type": "stream",
     "text": [
      "Exporting to NWB 2.0 for session: {'session_name': 'abc123d4fcbb', 'recording_order': 0, 'recording_name': 'rrrrd24', 'animal_id': 'abc123', 'datasource_id': 0, 'animal_name': '123', 'timestamp': datetime.datetime(2022, 3, 1, 5, 30, 10), 'combined': 'yes', 'timeseries_name': '123_20220301_ML-100_DJ01_3Openfiled', 'equipment_type': '2Pminiscope_A', 'username': 'testuser'}...\n",
      "{'session_name': 'abc123d4fcbb', 'recording_order': 0, 'recording_name': 'rrrrd24', 'dataset_name': 'dddd280d', 'center_plane': 0}\n"
     ]
    },
    {
     "name": "stderr",
     "output_type": "stream",
     "text": [
      "/opt/anaconda3/envs/moser_imaging_py39/lib/python3.9/site-packages/pynwb/file.py:1037: UserWarning: Date is missing timezone information. Updating to local timezone.\n",
      "  warn(\"Date is missing timezone information. Updating to local timezone.\")\n"
     ]
    },
    {
     "ename": "ValueError",
     "evalue": "RoiResponseSeries.__init__: incorrect shape for 'timestamps' (got '(170, 26100)', expected '(None,)')",
     "output_type": "error",
     "traceback": [
      "\u001b[0;31m---------------------------------------------------------------------------\u001b[0m",
      "\u001b[0;31mValueError\u001b[0m                                Traceback (most recent call last)",
      "\u001b[1;32m/Users/geetikasingh/Desktop/Projects-DJ/Moser/example_nwb/datajoint_nwb_run_timestamp.ipynb Cell 3'\u001b[0m in \u001b[0;36m<module>\u001b[0;34m\u001b[0m\n\u001b[1;32m      <a href='vscode-notebook-cell:/Users/geetikasingh/Desktop/Projects-DJ/Moser/example_nwb/datajoint_nwb_run_timestamp.ipynb#ch0000003?line=0'>1</a>\u001b[0m output_dir \u001b[39m=\u001b[39m \u001b[39m'\u001b[39m\u001b[39m./nwb\u001b[39m\u001b[39m'\u001b[39m\n\u001b[0;32m----> <a href='vscode-notebook-cell:/Users/geetikasingh/Desktop/Projects-DJ/Moser/example_nwb/datajoint_nwb_run_timestamp.ipynb#ch0000003?line=1'>2</a>\u001b[0m timestamp_error\u001b[39m.\u001b[39;49mwrite_nwb_files(session_keys, output_dir\u001b[39m=\u001b[39;49moutput_dir, overwrite\u001b[39m=\u001b[39;49m\u001b[39mTrue\u001b[39;49;00m)\n",
      "File \u001b[0;32m~/Desktop/Projects-DJ/Moser/example_nwb/timestamp_error.py:259\u001b[0m, in \u001b[0;36mwrite_nwb_files\u001b[0;34m(session_keys, output_dir, overwrite)\u001b[0m\n\u001b[1;32m    <a href='file:///~/Desktop/Projects-DJ/Moser/example_nwb/timestamp_error.py?line=256'>257</a>\u001b[0m \u001b[39mdef\u001b[39;00m \u001b[39mwrite_nwb_files\u001b[39m(session_keys, output_dir\u001b[39m=\u001b[39m\u001b[39m'\u001b[39m\u001b[39m./\u001b[39m\u001b[39m'\u001b[39m, overwrite\u001b[39m=\u001b[39m\u001b[39mTrue\u001b[39;00m):\n\u001b[1;32m    <a href='file:///~/Desktop/Projects-DJ/Moser/example_nwb/timestamp_error.py?line=257'>258</a>\u001b[0m     \u001b[39mfor\u001b[39;00m session_key \u001b[39min\u001b[39;00m session_keys:\n\u001b[0;32m--> <a href='file:///~/Desktop/Projects-DJ/Moser/example_nwb/timestamp_error.py?line=258'>259</a>\u001b[0m         export_to_nwb(session_key, output_dir\u001b[39m=\u001b[39;49moutput_dir, overwrite\u001b[39m=\u001b[39;49moverwrite)\n",
      "File \u001b[0;32m~/Desktop/Projects-DJ/Moser/example_nwb/timestamp_error.py:231\u001b[0m, in \u001b[0;36mexport_to_nwb\u001b[0;34m(session_key, output_dir, overwrite)\u001b[0m\n\u001b[1;32m    <a href='file:///~/Desktop/Projects-DJ/Moser/example_nwb/timestamp_error.py?line=224'>225</a>\u001b[0m     roi_region \u001b[39m=\u001b[39m ps\u001b[39m.\u001b[39mcreate_roi_table_region(region\u001b[39m=\u001b[39m\u001b[39mlist\u001b[39m(\u001b[39mrange\u001b[39m(\u001b[39mlen\u001b[39m(cell_ids))),\n\u001b[1;32m    <a href='file:///~/Desktop/Projects-DJ/Moser/example_nwb/timestamp_error.py?line=225'>226</a>\u001b[0m                                             description\u001b[39m=\u001b[39m\u001b[39m'\u001b[39m\u001b[39mlist of ROIs\u001b[39m\u001b[39m'\u001b[39m\n\u001b[1;32m    <a href='file:///~/Desktop/Projects-DJ/Moser/example_nwb/timestamp_error.py?line=226'>227</a>\u001b[0m                                             )\n\u001b[1;32m    <a href='file:///~/Desktop/Projects-DJ/Moser/example_nwb/timestamp_error.py?line=229'>230</a>\u001b[0m     \u001b[39m# TODO: Can timestamps be stored as an 2d array instead of just 1D\u001b[39;00m\n\u001b[0;32m--> <a href='file:///~/Desktop/Projects-DJ/Moser/example_nwb/timestamp_error.py?line=230'>231</a>\u001b[0m     roi_resp_series\u001b[39m.\u001b[39mappend(RoiResponseSeries(name\u001b[39m=\u001b[39;49m\u001b[39m'\u001b[39;49m\u001b[39mRawfluorescenceResponseSeries\u001b[39;49m\u001b[39m'\u001b[39;49m\u001b[39m+\u001b[39;49m\u001b[39m'\u001b[39;49m\u001b[39m_\u001b[39;49m\u001b[39m'\u001b[39;49m\u001b[39m+\u001b[39;49m\u001b[39mstr\u001b[39;49m(plane[\u001b[39m'\u001b[39;49m\u001b[39mcenter_plane\u001b[39;49m\u001b[39m'\u001b[39;49m]),\n\u001b[1;32m    <a href='file:///~/Desktop/Projects-DJ/Moser/example_nwb/timestamp_error.py?line=231'>232</a>\u001b[0m                                         data\u001b[39m=\u001b[39;49mraw_fluo_traces,\n\u001b[1;32m    <a href='file:///~/Desktop/Projects-DJ/Moser/example_nwb/timestamp_error.py?line=232'>233</a>\u001b[0m                                         description\u001b[39m=\u001b[39;49m\u001b[39m'\u001b[39;49m\u001b[39mRaw fluorescence trace\u001b[39;49m\u001b[39m'\u001b[39;49m,\n\u001b[1;32m    <a href='file:///~/Desktop/Projects-DJ/Moser/example_nwb/timestamp_error.py?line=233'>234</a>\u001b[0m                                         rois\u001b[39m=\u001b[39;49mroi_region,\n\u001b[1;32m    <a href='file:///~/Desktop/Projects-DJ/Moser/example_nwb/timestamp_error.py?line=234'>235</a>\u001b[0m                                         unit\u001b[39m=\u001b[39;49m\u001b[39m'\u001b[39;49m\u001b[39ma.u.\u001b[39;49m\u001b[39m'\u001b[39;49m,\n\u001b[1;32m    <a href='file:///~/Desktop/Projects-DJ/Moser/example_nwb/timestamp_error.py?line=235'>236</a>\u001b[0m                                         timestamps\u001b[39m=\u001b[39;49mtimestamps))\n\u001b[1;32m    <a href='file:///~/Desktop/Projects-DJ/Moser/example_nwb/timestamp_error.py?line=237'>238</a>\u001b[0m motion_correction \u001b[39m=\u001b[39m MotionCorrection(corrected_image_stacks\u001b[39m=\u001b[39mcorrected_image_stacks)\n\u001b[1;32m    <a href='file:///~/Desktop/Projects-DJ/Moser/example_nwb/timestamp_error.py?line=238'>239</a>\u001b[0m ophys_module\u001b[39m.\u001b[39madd(motion_correction)\n",
      "File \u001b[0;32m/opt/anaconda3/envs/moser_imaging_py39/lib/python3.9/site-packages/hdmf/utils.py:582\u001b[0m, in \u001b[0;36mdocval.<locals>.dec.<locals>.func_call\u001b[0;34m(*args, **kwargs)\u001b[0m\n\u001b[1;32m    <a href='file:///opt/anaconda3/envs/moser_imaging_py39/lib/python3.9/site-packages/hdmf/utils.py?line=580'>581</a>\u001b[0m \u001b[39mdef\u001b[39;00m \u001b[39mfunc_call\u001b[39m(\u001b[39m*\u001b[39margs, \u001b[39m*\u001b[39m\u001b[39m*\u001b[39mkwargs):\n\u001b[0;32m--> <a href='file:///opt/anaconda3/envs/moser_imaging_py39/lib/python3.9/site-packages/hdmf/utils.py?line=581'>582</a>\u001b[0m     pargs \u001b[39m=\u001b[39m _check_args(args, kwargs)\n\u001b[1;32m    <a href='file:///opt/anaconda3/envs/moser_imaging_py39/lib/python3.9/site-packages/hdmf/utils.py?line=582'>583</a>\u001b[0m     \u001b[39mreturn\u001b[39;00m func(args[\u001b[39m0\u001b[39m], \u001b[39m*\u001b[39m\u001b[39m*\u001b[39mpargs)\n",
      "File \u001b[0;32m/opt/anaconda3/envs/moser_imaging_py39/lib/python3.9/site-packages/hdmf/utils.py:575\u001b[0m, in \u001b[0;36mdocval.<locals>.dec.<locals>._check_args\u001b[0;34m(args, kwargs)\u001b[0m\n\u001b[1;32m    <a href='file:///opt/anaconda3/envs/moser_imaging_py39/lib/python3.9/site-packages/hdmf/utils.py?line=572'>573</a>\u001b[0m     \u001b[39mif\u001b[39;00m parse_err:\n\u001b[1;32m    <a href='file:///opt/anaconda3/envs/moser_imaging_py39/lib/python3.9/site-packages/hdmf/utils.py?line=573'>574</a>\u001b[0m         msg \u001b[39m=\u001b[39m \u001b[39m'\u001b[39m\u001b[39m%s\u001b[39;00m\u001b[39m: \u001b[39m\u001b[39m%s\u001b[39;00m\u001b[39m'\u001b[39m \u001b[39m%\u001b[39m (func\u001b[39m.\u001b[39m\u001b[39m__qualname__\u001b[39m, \u001b[39m'\u001b[39m\u001b[39m, \u001b[39m\u001b[39m'\u001b[39m\u001b[39m.\u001b[39mjoin(parse_err))\n\u001b[0;32m--> <a href='file:///opt/anaconda3/envs/moser_imaging_py39/lib/python3.9/site-packages/hdmf/utils.py?line=574'>575</a>\u001b[0m         \u001b[39mraise\u001b[39;00m ExceptionType(msg)\n\u001b[1;32m    <a href='file:///opt/anaconda3/envs/moser_imaging_py39/lib/python3.9/site-packages/hdmf/utils.py?line=576'>577</a>\u001b[0m \u001b[39mreturn\u001b[39;00m parsed[\u001b[39m'\u001b[39m\u001b[39margs\u001b[39m\u001b[39m'\u001b[39m]\n",
      "\u001b[0;31mValueError\u001b[0m: RoiResponseSeries.__init__: incorrect shape for 'timestamps' (got '(170, 26100)', expected '(None,)')"
     ]
    }
   ],
   "source": [
    "output_dir = './nwb'\n",
    "motioncorrect_timestamp_errors.write_nwb_files(session_keys, output_dir=output_dir, overwrite=True)"
   ]
  },
  {
   "cell_type": "code",
   "execution_count": null,
   "metadata": {},
   "outputs": [],
   "source": []
  }
 ],
 "metadata": {
  "interpreter": {
   "hash": "4965b78bc5053315db0f801d2b5e5905ab779ec635c92010e47e16662e75eb82"
  },
  "kernelspec": {
   "display_name": "Python 3.9.6 ('moser_imaging_py39')",
   "language": "python",
   "name": "python3"
  },
  "language_info": {
   "codemirror_mode": {
    "name": "ipython",
    "version": 3
   },
   "file_extension": ".py",
   "mimetype": "text/x-python",
   "name": "python",
   "nbconvert_exporter": "python",
   "pygments_lexer": "ipython3",
   "version": "3.9.6"
  },
  "orig_nbformat": 4
 },
 "nbformat": 4,
 "nbformat_minor": 2
}
