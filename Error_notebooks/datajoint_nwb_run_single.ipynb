{
 "cells": [
  {
   "cell_type": "code",
   "execution_count": 1,
   "metadata": {},
   "outputs": [],
   "source": [
    "import datajoint as dj\n",
    "import datajoint_to_nwb_single\n",
    "# from imaging import analysis, preprocess, reference, equipment, tracking, analysis_param, sessions, animal, file\n",
    "from pynwb import NWBHDF5IO\n",
    "import matplotlib.pyplot as plt\n",
    "import datetime"
   ]
  },
  {
   "cell_type": "code",
   "execution_count": 2,
   "metadata": {},
   "outputs": [
    {
     "name": "stdout",
     "output_type": "stream",
     "text": [
      "(1, 512, 512, 1, 3000)\n"
     ]
    },
    {
     "data": {
      "text/plain": [
       "(3, 256, 256, 2, 1000)"
      ]
     },
     "execution_count": 2,
     "metadata": {},
     "output_type": "execute_result"
    }
   ],
   "source": [
    "import scanreader\n",
    "single_tiff_file = scanreader.read_scan('./k53_20160530_RSM_125um_41mW_zoom2p2_00001_00001.tif')\n",
    "print(single_tiff_file.shape)\n",
    "tiff_file = scanreader.read_scan('./90853_3L_00001.tif')\n",
    "tiff_file.shape\n",
    "# print(tiff_file)"
   ]
  },
  {
   "cell_type": "code",
   "execution_count": 3,
   "metadata": {},
   "outputs": [],
   "source": [
    "session_keys = [{'session_name': 'abc123d4fcbb',\n",
    "                'recording_order': 0,\n",
    "                'recording_name': 'rrrrd24',\n",
    "                'animal_id': 'abc123',\n",
    "                'datasource_id': 0,\n",
    "                'animal_name': '123',\n",
    "                'timestamp': datetime.datetime(2022, 3, 1, 5, 30, 10),\n",
    "                'combined': 'yes',\n",
    "                'timeseries_name': '123_20220301_ML-100_DJ01_3Openfiled',\n",
    "                'equipment_type': '2Pminiscope_A',\n",
    "                'username': 'testuser'}]\n",
    "# session_key = session_keys[0]"
   ]
  },
  {
   "cell_type": "code",
   "execution_count": 4,
   "metadata": {},
   "outputs": [
    {
     "name": "stdout",
     "output_type": "stream",
     "text": [
      "Exporting to NWB 2.0 for session: {'session_name': 'abc123d4fcbb', 'recording_order': 0, 'recording_name': 'rrrrd24', 'animal_id': 'abc123', 'datasource_id': 0, 'animal_name': '123', 'timestamp': datetime.datetime(2022, 3, 1, 5, 30, 10), 'combined': 'yes', 'timeseries_name': '123_20220301_ML-100_DJ01_3Openfiled', 'equipment_type': '2Pminiscope_A', 'username': 'testuser'}...\n",
      "{'session_name': 'abc123d4fcbb', 'recording_order': 0, 'recording_name': 'rrrrd24', 'dataset_name': 'dddd280d', 'center_plane': 0}\n",
      "{'session_name': 'abc123d4fcbb', 'recording_order': 0, 'recording_name': 'rrrrd24', 'dataset_name': 'dddd280d', 'center_plane': 1}\n"
     ]
    },
    {
     "name": "stderr",
     "output_type": "stream",
     "text": [
      "/opt/anaconda3/envs/moser_imaging_py39/lib/python3.9/site-packages/pynwb/file.py:1037: UserWarning: Date is missing timezone information. Updating to local timezone.\n",
      "  warn(\"Date is missing timezone information. Updating to local timezone.\")\n"
     ]
    },
    {
     "ename": "ValueError",
     "evalue": "'CorrectedImageStack' already exists in MotionCorrection 'MotionCorrection'",
     "output_type": "error",
     "traceback": [
      "\u001b[0;31m---------------------------------------------------------------------------\u001b[0m",
      "\u001b[0;31mValueError\u001b[0m                                Traceback (most recent call last)",
      "\u001b[1;32m/Users/geetikasingh/Desktop/Projects-DJ/Moser/example_nwb/datajoint_nwb_run_single.ipynb Cell 4'\u001b[0m in \u001b[0;36m<module>\u001b[0;34m\u001b[0m\n\u001b[1;32m      <a href='vscode-notebook-cell:/Users/geetikasingh/Desktop/Projects-DJ/Moser/example_nwb/datajoint_nwb_run_single.ipynb#ch0000003?line=0'>1</a>\u001b[0m output_dir \u001b[39m=\u001b[39m \u001b[39m'\u001b[39m\u001b[39m./nwb\u001b[39m\u001b[39m'\u001b[39m\n\u001b[0;32m----> <a href='vscode-notebook-cell:/Users/geetikasingh/Desktop/Projects-DJ/Moser/example_nwb/datajoint_nwb_run_single.ipynb#ch0000003?line=1'>2</a>\u001b[0m datajoint_to_nwb_single\u001b[39m.\u001b[39;49mwrite_nwb_files(session_keys, output_dir\u001b[39m=\u001b[39;49moutput_dir, overwrite\u001b[39m=\u001b[39;49m\u001b[39mTrue\u001b[39;49;00m)\n",
      "File \u001b[0;32m~/Desktop/Projects-DJ/Moser/example_nwb/datajoint_to_nwb_single.py:222\u001b[0m, in \u001b[0;36mwrite_nwb_files\u001b[0;34m(session_keys, output_dir, overwrite)\u001b[0m\n\u001b[1;32m    <a href='file:///~/Desktop/Projects-DJ/Moser/example_nwb/datajoint_to_nwb_single.py?line=219'>220</a>\u001b[0m \u001b[39mdef\u001b[39;00m \u001b[39mwrite_nwb_files\u001b[39m(session_keys, output_dir\u001b[39m=\u001b[39m\u001b[39m'\u001b[39m\u001b[39m./\u001b[39m\u001b[39m'\u001b[39m, overwrite\u001b[39m=\u001b[39m\u001b[39mTrue\u001b[39;00m):\n\u001b[1;32m    <a href='file:///~/Desktop/Projects-DJ/Moser/example_nwb/datajoint_to_nwb_single.py?line=220'>221</a>\u001b[0m     \u001b[39mfor\u001b[39;00m session_key \u001b[39min\u001b[39;00m session_keys:\n\u001b[0;32m--> <a href='file:///~/Desktop/Projects-DJ/Moser/example_nwb/datajoint_to_nwb_single.py?line=221'>222</a>\u001b[0m         export_to_nwb(session_key, output_dir\u001b[39m=\u001b[39;49moutput_dir, overwrite\u001b[39m=\u001b[39;49moverwrite)\n",
      "File \u001b[0;32m~/Desktop/Projects-DJ/Moser/example_nwb/datajoint_to_nwb_single.py:201\u001b[0m, in \u001b[0;36mexport_to_nwb\u001b[0;34m(session_key, output_dir, overwrite)\u001b[0m\n\u001b[1;32m    <a href='file:///~/Desktop/Projects-DJ/Moser/example_nwb/datajoint_to_nwb_single.py?line=187'>188</a>\u001b[0m     \u001b[39m# ==========================================================================\u001b[39;00m\n\u001b[1;32m    <a href='file:///~/Desktop/Projects-DJ/Moser/example_nwb/datajoint_to_nwb_single.py?line=188'>189</a>\u001b[0m     \u001b[39m# ----------------------- Segmentation information -------------------------\u001b[39;00m\n\u001b[1;32m    <a href='file:///~/Desktop/Projects-DJ/Moser/example_nwb/datajoint_to_nwb_single.py?line=189'>190</a>\u001b[0m     \u001b[39m# ==========================================================================\u001b[39;00m\n\u001b[1;32m    <a href='file:///~/Desktop/Projects-DJ/Moser/example_nwb/datajoint_to_nwb_single.py?line=190'>191</a>\u001b[0m \n\u001b[1;32m    <a href='file:///~/Desktop/Projects-DJ/Moser/example_nwb/datajoint_to_nwb_single.py?line=191'>192</a>\u001b[0m     \u001b[39m#TODO: Explore option of creating a new processing module for segmentation\u001b[39;00m\n\u001b[1;32m    <a href='file:///~/Desktop/Projects-DJ/Moser/example_nwb/datajoint_to_nwb_single.py?line=193'>194</a>\u001b[0m     ps \u001b[39m=\u001b[39m img_seg\u001b[39m.\u001b[39mcreate_plane_segmentation(name\u001b[39m=\u001b[39m\u001b[39m'\u001b[39m\u001b[39mPlaneSegmentation\u001b[39m\u001b[39m'\u001b[39m\u001b[39m+\u001b[39m\u001b[39m'\u001b[39m\u001b[39m_\u001b[39m\u001b[39m'\u001b[39m\u001b[39m+\u001b[39m\u001b[39mstr\u001b[39m(plane[\u001b[39m'\u001b[39m\u001b[39mcenter_plane\u001b[39m\u001b[39m'\u001b[39m]),\n\u001b[1;32m    <a href='file:///~/Desktop/Projects-DJ/Moser/example_nwb/datajoint_to_nwb_single.py?line=194'>195</a>\u001b[0m                                         description\u001b[39m=\u001b[39m\u001b[39m'\u001b[39m\u001b[39moutput from segmenting the imaging plane\u001b[39m\u001b[39m'\u001b[39m,\n\u001b[1;32m    <a href='file:///~/Desktop/Projects-DJ/Moser/example_nwb/datajoint_to_nwb_single.py?line=195'>196</a>\u001b[0m                                         imaging_plane\u001b[39m=\u001b[39mimaging_plane,\n\u001b[1;32m    <a href='file:///~/Desktop/Projects-DJ/Moser/example_nwb/datajoint_to_nwb_single.py?line=196'>197</a>\u001b[0m                                         reference_images\u001b[39m=\u001b[39mimage_series  \u001b[39m# optional\u001b[39;00m\n\u001b[1;32m    <a href='file:///~/Desktop/Projects-DJ/Moser/example_nwb/datajoint_to_nwb_single.py?line=197'>198</a>\u001b[0m                                         )\n\u001b[0;32m--> <a href='file:///~/Desktop/Projects-DJ/Moser/example_nwb/datajoint_to_nwb_single.py?line=200'>201</a>\u001b[0m motion_correction \u001b[39m=\u001b[39m MotionCorrection(corrected_image_stacks\u001b[39m=\u001b[39;49mcorrected_image_stacks)\n\u001b[1;32m    <a href='file:///~/Desktop/Projects-DJ/Moser/example_nwb/datajoint_to_nwb_single.py?line=201'>202</a>\u001b[0m ophys_module\u001b[39m.\u001b[39madd(motion_correction)\n\u001b[1;32m    <a href='file:///~/Desktop/Projects-DJ/Moser/example_nwb/datajoint_to_nwb_single.py?line=202'>203</a>\u001b[0m ophys_module\u001b[39m.\u001b[39madd(img_seg)\n",
      "File \u001b[0;32m/opt/anaconda3/envs/moser_imaging_py39/lib/python3.9/site-packages/hdmf/utils.py:583\u001b[0m, in \u001b[0;36mdocval.<locals>.dec.<locals>.func_call\u001b[0;34m(*args, **kwargs)\u001b[0m\n\u001b[1;32m    <a href='file:///opt/anaconda3/envs/moser_imaging_py39/lib/python3.9/site-packages/hdmf/utils.py?line=580'>581</a>\u001b[0m \u001b[39mdef\u001b[39;00m \u001b[39mfunc_call\u001b[39m(\u001b[39m*\u001b[39margs, \u001b[39m*\u001b[39m\u001b[39m*\u001b[39mkwargs):\n\u001b[1;32m    <a href='file:///opt/anaconda3/envs/moser_imaging_py39/lib/python3.9/site-packages/hdmf/utils.py?line=581'>582</a>\u001b[0m     pargs \u001b[39m=\u001b[39m _check_args(args, kwargs)\n\u001b[0;32m--> <a href='file:///opt/anaconda3/envs/moser_imaging_py39/lib/python3.9/site-packages/hdmf/utils.py?line=582'>583</a>\u001b[0m     \u001b[39mreturn\u001b[39;00m func(args[\u001b[39m0\u001b[39;49m], \u001b[39m*\u001b[39;49m\u001b[39m*\u001b[39;49mpargs)\n",
      "File \u001b[0;32m/opt/anaconda3/envs/moser_imaging_py39/lib/python3.9/site-packages/hdmf/container.py:786\u001b[0m, in \u001b[0;36mMultiContainerInterface.__make_constructor.<locals>._func\u001b[0;34m(self, **kwargs)\u001b[0m\n\u001b[1;32m    <a href='file:///opt/anaconda3/envs/moser_imaging_py39/lib/python3.9/site-packages/hdmf/container.py?line=783'>784</a>\u001b[0m container \u001b[39m=\u001b[39m popargs(attr_name, kwargs)\n\u001b[1;32m    <a href='file:///opt/anaconda3/envs/moser_imaging_py39/lib/python3.9/site-packages/hdmf/container.py?line=784'>785</a>\u001b[0m add \u001b[39m=\u001b[39m \u001b[39mgetattr\u001b[39m(\u001b[39mself\u001b[39m, add_name)\n\u001b[0;32m--> <a href='file:///opt/anaconda3/envs/moser_imaging_py39/lib/python3.9/site-packages/hdmf/container.py?line=785'>786</a>\u001b[0m add(container)\n",
      "File \u001b[0;32m/opt/anaconda3/envs/moser_imaging_py39/lib/python3.9/site-packages/hdmf/utils.py:583\u001b[0m, in \u001b[0;36mdocval.<locals>.dec.<locals>.func_call\u001b[0;34m(*args, **kwargs)\u001b[0m\n\u001b[1;32m    <a href='file:///opt/anaconda3/envs/moser_imaging_py39/lib/python3.9/site-packages/hdmf/utils.py?line=580'>581</a>\u001b[0m \u001b[39mdef\u001b[39;00m \u001b[39mfunc_call\u001b[39m(\u001b[39m*\u001b[39margs, \u001b[39m*\u001b[39m\u001b[39m*\u001b[39mkwargs):\n\u001b[1;32m    <a href='file:///opt/anaconda3/envs/moser_imaging_py39/lib/python3.9/site-packages/hdmf/utils.py?line=581'>582</a>\u001b[0m     pargs \u001b[39m=\u001b[39m _check_args(args, kwargs)\n\u001b[0;32m--> <a href='file:///opt/anaconda3/envs/moser_imaging_py39/lib/python3.9/site-packages/hdmf/utils.py?line=582'>583</a>\u001b[0m     \u001b[39mreturn\u001b[39;00m func(args[\u001b[39m0\u001b[39;49m], \u001b[39m*\u001b[39;49m\u001b[39m*\u001b[39;49mpargs)\n",
      "File \u001b[0;32m/opt/anaconda3/envs/moser_imaging_py39/lib/python3.9/site-packages/hdmf/container.py:747\u001b[0m, in \u001b[0;36mMultiContainerInterface.__make_add.<locals>._func\u001b[0;34m(self, **kwargs)\u001b[0m\n\u001b[1;32m    <a href='file:///opt/anaconda3/envs/moser_imaging_py39/lib/python3.9/site-packages/hdmf/container.py?line=744'>745</a>\u001b[0m     \u001b[39mif\u001b[39;00m tmp\u001b[39m.\u001b[39mname \u001b[39min\u001b[39;00m d:\n\u001b[1;32m    <a href='file:///opt/anaconda3/envs/moser_imaging_py39/lib/python3.9/site-packages/hdmf/container.py?line=745'>746</a>\u001b[0m         msg \u001b[39m=\u001b[39m \u001b[39m\"\u001b[39m\u001b[39m'\u001b[39m\u001b[39m%s\u001b[39;00m\u001b[39m'\u001b[39m\u001b[39m already exists in \u001b[39m\u001b[39m%s\u001b[39;00m\u001b[39m \u001b[39m\u001b[39m'\u001b[39m\u001b[39m%s\u001b[39;00m\u001b[39m'\u001b[39m\u001b[39m\"\u001b[39m \u001b[39m%\u001b[39m (tmp\u001b[39m.\u001b[39mname, \u001b[39mcls\u001b[39m\u001b[39m.\u001b[39m\u001b[39m__name__\u001b[39m, \u001b[39mself\u001b[39m\u001b[39m.\u001b[39mname)\n\u001b[0;32m--> <a href='file:///opt/anaconda3/envs/moser_imaging_py39/lib/python3.9/site-packages/hdmf/container.py?line=746'>747</a>\u001b[0m         \u001b[39mraise\u001b[39;00m \u001b[39mValueError\u001b[39;00m(msg)\n\u001b[1;32m    <a href='file:///opt/anaconda3/envs/moser_imaging_py39/lib/python3.9/site-packages/hdmf/container.py?line=747'>748</a>\u001b[0m     d[tmp\u001b[39m.\u001b[39mname] \u001b[39m=\u001b[39m tmp\n\u001b[1;32m    <a href='file:///opt/anaconda3/envs/moser_imaging_py39/lib/python3.9/site-packages/hdmf/container.py?line=748'>749</a>\u001b[0m \u001b[39mreturn\u001b[39;00m container\n",
      "\u001b[0;31mValueError\u001b[0m: 'CorrectedImageStack' already exists in MotionCorrection 'MotionCorrection'"
     ]
    }
   ],
   "source": [
    "output_dir = './nwb'\n",
    "datajoint_to_nwb_single.write_nwb_files(session_keys, output_dir=output_dir, overwrite=True)"
   ]
  },
  {
   "cell_type": "code",
   "execution_count": null,
   "metadata": {},
   "outputs": [],
   "source": []
  }
 ],
 "metadata": {
  "interpreter": {
   "hash": "4965b78bc5053315db0f801d2b5e5905ab779ec635c92010e47e16662e75eb82"
  },
  "kernelspec": {
   "display_name": "Python 3.9.6 ('moser_imaging_py39')",
   "language": "python",
   "name": "python3"
  },
  "language_info": {
   "codemirror_mode": {
    "name": "ipython",
    "version": 3
   },
   "file_extension": ".py",
   "mimetype": "text/x-python",
   "name": "python",
   "nbconvert_exporter": "python",
   "pygments_lexer": "ipython3",
   "version": "3.9.6"
  },
  "orig_nbformat": 4
 },
 "nbformat": 4,
 "nbformat_minor": 2
}
